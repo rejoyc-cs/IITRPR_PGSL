{
  "nbformat": 4,
  "nbformat_minor": 0,
  "metadata": {
    "colab": {
      "provenance": []
    },
    "kernelspec": {
      "name": "python3",
      "display_name": "Python 3"
    },
    "language_info": {
      "name": "python"
    }
  },
  "cells": [
    {
      "cell_type": "code",
      "source": [
        "import pandas as pd"
      ],
      "metadata": {
        "id": "rfRxAFSb_RyN"
      },
      "execution_count": 125,
      "outputs": []
    },
    {
      "cell_type": "code",
      "execution_count": 126,
      "metadata": {
        "id": "MBYV7Kp-6_4P"
      },
      "outputs": [],
      "source": [
        "class Node:\n",
        "  def __init__(self,data=[0,0,0,0],left=None,right=None):\n",
        "    self.data = data\n",
        "    self.left=left\n",
        "    self.right=right"
      ]
    },
    {
      "cell_type": "code",
      "source": [
        "def insert(rt,val,depth=0):\n",
        "  if(rt==None):\n",
        "    rt = Node(val)\n",
        "  else:\n",
        "    index = depth%4\n",
        "    if(rt.data[index]>val[index]):\n",
        "      rt.left = insert(rt.left,val,depth+1)\n",
        "    else:\n",
        "      rt.right = insert(rt.right,val,depth+1)\n",
        "\n",
        "  return rt"
      ],
      "metadata": {
        "id": "0k-hodda8oLa"
      },
      "execution_count": 127,
      "outputs": []
    },
    {
      "cell_type": "code",
      "source": [
        "def treeConstruct(data_list):\n",
        "  root = None\n",
        "  data = data_list\n",
        "\n",
        "  for i in range(0,len(data)):\n",
        "    temp = [data[i][1],data[i][2],data[i][3],data[i][4]]\n",
        "    root = insert(root,temp)\n",
        "\n",
        "  return root"
      ],
      "metadata": {
        "id": "9ltfkQ6G9usP"
      },
      "execution_count": 128,
      "outputs": []
    },
    {
      "cell_type": "code",
      "source": [
        "def min_val(root,key):\n",
        "  cur_min = (((root.data[0]-key[0])**2)+((root.data[1]-key[1])**2)+((root.data[2]-key[2])**2)+((root.data[3]-key[3])**2))**0.5\n",
        "\n",
        "  if(root.left==None and root.right==None):\n",
        "    return [cur_min,root]\n",
        "\n",
        "  elif(root.left==None):\n",
        "    temp = min_val(root.right,key)\n",
        "    right_min = temp[0]\n",
        "    node = temp[1]\n",
        "\n",
        "    if cur_min < right_min:\n",
        "      return [cur_min,root]\n",
        "    else:\n",
        "      return [right_min,node]\n",
        "\n",
        "  elif(root.right==None):\n",
        "    temp = min_val(root.left,key)\n",
        "    left_min = temp[0]\n",
        "    node = temp[1]\n",
        "\n",
        "    if(cur_min < left_min):\n",
        "      return [cur_min,root]\n",
        "    else:\n",
        "      return [left_min,node]\n",
        "\n",
        "  else:\n",
        "    temp1 = min_val(root.left,key)\n",
        "    temp2 = min_val(root.right,key)\n",
        "    left_min = temp1[0]\n",
        "    right_min =temp2[0]\n",
        "    node_l=temp1[1]\n",
        "    node_r=temp2[1]\n",
        "\n",
        "    if(cur_min < left_min and cur_min < right_min):\n",
        "      return [cur_min,root]\n",
        "    elif(left_min <cur_min and left_min < right_min):\n",
        "      return [left_min,node_l]\n",
        "    else:\n",
        "      return [right_min,node_r]\n",
        "\n",
        "def nearest_neighbor(root,data,key):\n",
        "  min = min_val(root,key)[1]\n",
        "  for i in range(len(data)):\n",
        "    if(data[i][1:]==min.data):\n",
        "      print(data[i][0])\n",
        "      return data[i]\n"
      ],
      "metadata": {
        "id": "EO_8KpD4IL61"
      },
      "execution_count": 136,
      "outputs": []
    },
    {
      "cell_type": "code",
      "source": [
        "def extended_nearest_neighbor(data,key):\n",
        "  neighbors = []\n",
        "\n",
        "  for i in range(1,6):\n",
        "    root = treeConstruct(data)\n",
        "    nearest_node = nearest_neighbor(root,data,key)\n",
        "    neighbors.append(nearest_node)\n",
        "    data.remove(nearest_node)\n",
        "\n",
        "  return neighbors"
      ],
      "metadata": {
        "id": "52oiQLY4YF8G"
      },
      "execution_count": 134,
      "outputs": []
    },
    {
      "cell_type": "code",
      "source": [
        "def main():\n",
        "  data_pd=pd.read_csv(\"/content/Rejoy Chakraborty - Dataset.csv\")\n",
        "  data = data_pd.values.tolist()\n",
        "\n",
        "  root = treeConstruct(data)\n",
        "\n",
        "  key = [70,2.0,3,70000] #Key for neighborhood search\n",
        "\n",
        "  print(\"Nearest Neighbor of \",key,\" is:\")\n",
        "  nearest_node = nearest_neighbor(root,data,[70,2.0,3,70000]) #Nearest Neighbor\n",
        "\n",
        "  print(\"\\n\\n\")\n",
        "\n",
        "  print(\"5 Nearest Neighbor using Extended Nearest Neighbor of \",key,\" are:\")\n",
        "  neighbors = extended_nearest_neighbor(data,[70,2.0,3,70000]) #Extended Nearest Neighbor\n",
        "\n",
        "if __name__ == '__main__':\n",
        "  main()\n"
      ],
      "metadata": {
        "colab": {
          "base_uri": "https://localhost:8080/"
        },
        "id": "Dchb450QQHO2",
        "outputId": "1b5c31d5-20b1-43b1-f3dd-b33bca2cb556"
      },
      "execution_count": 135,
      "outputs": [
        {
          "output_type": "stream",
          "name": "stdout",
          "text": [
            "Nearest Neighbor of  [70, 2.0, 3, 70000]  is:\n",
            "Rivian R1S\n",
            "\n",
            "\n",
            "\n",
            "5 Nearest Neighbor using Extended Nearest Neighbor of  [70, 2.0, 3, 70000]  are:\n",
            "Rivian R1S\n",
            "VW SunDrive20\n",
            "Ford SunVolt43\n",
            "Chevrolet Model M65\n",
            "Nissan Model D69\n"
          ]
        }
      ]
    }
  ]
}